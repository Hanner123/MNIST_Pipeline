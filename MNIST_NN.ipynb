{
 "cells": [
  {
   "cell_type": "code",
   "execution_count": 1,
   "metadata": {},
   "outputs": [
    {
     "name": "stdout",
     "output_type": "stream",
     "text": [
      "Verwende Gerät: cuda\n",
      "50000 10000\n"
     ]
    }
   ],
   "source": [
    "import torch\n",
    "import torchvision\n",
    "import numpy as np\n",
    "import torch.nn as nn\n",
    "import torch.nn.functional as F\n",
    "from torchvision.datasets import MNIST\n",
    "from torchvision.transforms import ToTensor\n",
    "from torchvision.utils import make_grid\n",
    "from torch.utils.data.dataloader import DataLoader\n",
    "from torch.utils.data import random_split\n",
    "import matplotlib.pyplot as plt\n",
    "from torchmetrics.classification import Accuracy\n",
    "import json\n",
    "\n",
    "# Prüfen, ob eine GPU verfügbar ist, andernfalls CPU verwenden\n",
    "device = torch.device(\"cuda\" if torch.cuda.is_available() else \"cpu\")\n",
    "print(f\"Verwende Gerät: {device}\")\n",
    "\n",
    "# download dataset\n",
    "dataset = MNIST(root = 'data/',train=True,transform=ToTensor())\n",
    "\n",
    "# split in validation and train data\n",
    "val_size = 10000\n",
    "train_size = len(dataset) - val_size # 50000\n",
    "train_ds,val_ds = random_split(dataset,[train_size,val_size])\n",
    "print(len(train_ds), len(val_ds))\n",
    "\n",
    "# batch size for every iteration in each spoch\n",
    "batch_size = 128\n",
    "#dataloaders: to load dataset in batches and to shuffle the data -> no overfitting, parallel processes\n",
    "train_loder = DataLoader(train_ds,batch_size,shuffle=True,num_workers=4,pin_memory=True)\n",
    "val_loader = DataLoader(val_ds,batch_size,shuffle=True,num_workers=4,pin_memory=True)\n"
   ]
  },
  {
   "cell_type": "code",
   "execution_count": 2,
   "metadata": {},
   "outputs": [
    {
     "data": {
      "text/plain": [
       "<bound method Module.parameters of MnistModel(\n",
       "  (linear1): Linear(in_features=784, out_features=32, bias=True)\n",
       "  (linear2): Linear(in_features=32, out_features=10, bias=True)\n",
       ")>"
      ]
     },
     "execution_count": 2,
     "metadata": {},
     "output_type": "execute_result"
    }
   ],
   "source": [
    "# objekt um accuracy zu berechnen\n",
    "\n",
    "accuracy_metric = Accuracy(task=\"multiclass\", num_classes=10)\n",
    "accuracy_metric = accuracy_metric.to(device)\n",
    "\n",
    "def accuracy_f(outputs,labels):\n",
    "    return torch.tensor(accuracy_metric(outputs, labels))\n",
    "\n",
    "def accuracy(outputs,labels):\n",
    "    _,preds = torch.max(outputs,dim = 1) ## _ here max prob will come and we don't require it now\n",
    "    return torch.tensor(torch.sum(preds == labels).item()/len(preds))\n",
    "\n",
    "# NN Klasse\n",
    "class MnistModel(nn.Module):\n",
    "    def __init__(self,input_size,hidden_size,out_size):\n",
    "        super().__init__()\n",
    "        #Modell hat drei Schichten: Input, Hidden und Output\n",
    "        self.linear1 = nn.Linear(input_size,hidden_size) #parameter 1 (input -> hidden)\n",
    "        self.linear2 = nn.Linear(hidden_size,out_size) #parameter 2 (hidden -> output)\n",
    "\n",
    "    def forward(self,xb):\n",
    "        # forward bedeutet, dass ein Schritt der Klassifizierung mit den vorhandenen Gewichten ausgeführt wird.\n",
    "        xb = xb.view(xb.size(0),-1) ## same as .reshape()\n",
    "        out = self.linear1(xb)  # erste lineare transformation (out=xb⋅W1​+b1) xb: eingabetensor, W1: Gewichte der ersten schicht, b_1: Bias-Vektor\n",
    "        out = F.relu(out)       # Aktivierungsfunktion ReLu\n",
    "        out = self.linear2(out) # zweite lineare transformation\n",
    "        return out\n",
    "    \n",
    "    def training_step(self,batch):\n",
    "        # berechnung des losses für einen Schritt (für Backpropagation)\n",
    "        images,labels = batch #extract the images and labels from the batch\n",
    "        out = self(images) #self(images) ruft die forward methode auf! Das hier sind also die Prediction-Wahrscheinlichkeiten für einen step\n",
    "        loss = F.cross_entropy(out,labels) #jetzt wird geschaut, wie groß der Fehler ist, zwischen prediction und tatsächlichen labels\n",
    "        return loss\n",
    "    \n",
    "    def validation_step(self,batch):\n",
    "        # genauso wie training, aber berechnet zusätzlich accuracy und printet die werte aus\n",
    "        images,labels = batch\n",
    "        out = self(images) #höherer Wert -> höhere Wahrscheinlichkeit für die Klasse, argmax -> wahrscheinlichste Klasse\n",
    "        loss = F.cross_entropy(out,labels)\n",
    "        acc = accuracy_f(out,labels)\n",
    "        return {'val_loss': loss, 'val_acc': acc}\n",
    "    \n",
    "    def validation_epoch_end(self,outputs):\n",
    "        # validierungsfunktion für das ende der Epoche (Dict)\n",
    "        batch_losses = [x['val_loss'] for x in outputs]\n",
    "        epoch_loss = torch.stack(batch_losses).mean()\n",
    "        batch_acc = [x['val_acc'] for x in outputs]\n",
    "        epoch_acc = torch.stack(batch_acc).mean()\n",
    "        return {'val_loss': epoch_loss.item(),'val_acc': epoch_acc.item()}\n",
    "    \n",
    "    def epoch_end(self,epoch,result): # print funktion für das dictionary\n",
    "        print(\"Epoch [{}], val_loss: {:.4f}, val_acc: {:.4f}\".format(epoch+1, result['val_loss'], result['val_acc']))\n",
    "\n",
    "\n",
    "input_size = 784 #28x28 Pixel\n",
    "out_size = 10 #anzahl klassen\n",
    "hidden_size = 32 #anzahl neuronen in versteckter schicht\n",
    "\n",
    "# model wird initialsiert\n",
    "model = MnistModel(input_size,hidden_size,out_size)\n",
    "\n",
    "# printet die typen der parameter\n",
    "model.parameters"
   ]
  },
  {
   "cell_type": "code",
   "execution_count": 3,
   "metadata": {},
   "outputs": [],
   "source": [
    "#function that can move data and model to a chosen device. (wichtig für GPU-Nutzung, da standartmäßig oft die CPU verwendet wird - es gibt probleme, wenn manche berechnungen auf der GPU und manche auf der CPU laufen)\n",
    "# RuntimeError: Expected all tensors to be on the same device, but found at least two devices, cuda:0 and cpu!\n",
    "def to_device(data,device):\n",
    "    if isinstance(data, (list,tuple)): #The isinstance() function returns True if the specified object is of the specified type, otherwise False.\n",
    "        return [to_device(x,device) for x in data]\n",
    "    return data.to(device,non_blocking=True)\n",
    "\n",
    "# um dataloaders auf gpu zu verschieben \n",
    "class DeviceDataLoader():\n",
    "    def __init__(self,dl,device):\n",
    "        self.dl = dl\n",
    "        self.device = device\n",
    "    def __iter__(self):\n",
    "        \"\"\"Yield a batch of data after moving it to device\"\"\"\n",
    "        for b in self.dl:\n",
    "            yield to_device(b,self.device)\n",
    "    \n",
    "    def __len__(self):\n",
    "        return len(self.dl)\n",
    "\n",
    "train_loder = DeviceDataLoader(train_loder,device)\n",
    "val_loader = DeviceDataLoader(val_loader,device)"
   ]
  },
  {
   "cell_type": "code",
   "execution_count": 4,
   "metadata": {},
   "outputs": [
    {
     "data": {
      "text/plain": [
       "MnistModel(\n",
       "  (linear1): Linear(in_features=784, out_features=32, bias=True)\n",
       "  (linear2): Linear(in_features=32, out_features=10, bias=True)\n",
       ")"
      ]
     },
     "execution_count": 4,
     "metadata": {},
     "output_type": "execute_result"
    }
   ],
   "source": [
    "def evaluate(model,val_loader):\n",
    "    # aktuelles Modell betrachten (mit Gewichten), predicten (mit validierungsdatensatz) und Metriken berechnen\n",
    "    outputs = [model.validation_step(batch) for batch in val_loader]\n",
    "    return model.validation_epoch_end(outputs)\n",
    "\n",
    "def fit(epochs,lr,model,train_loder,val_loader,opt_func = torch.optim.SGD):\n",
    "    # führt das training aus, mit backpropagation\n",
    "    history = []\n",
    "    optimizer = opt_func(model.parameters(),lr)\n",
    "    # führt die epochen durch\n",
    "    for epoch in range(epochs):\n",
    "        for batch in train_loder:\n",
    "            loss = model.training_step(batch) # predicts (forward-step) and determines loss\n",
    "            loss.backward() # berechnet die Gradienten des Verlusts bezüglich der Modellparameter (Gewichte und Biases), bei den Modellparametern gespeichert, Kettenregel Defferentation, Richtung und Gröe für Änderung der Gewichte\n",
    "            optimizer.step() # used to update the parameters\n",
    "            optimizer.zero_grad() # Clears the gradients of optimizer\n",
    "        result = evaluate(model,val_loader) # evaluierung am ende der epoche\n",
    "        model.epoch_end(epoch,result) # print\n",
    "        history.append(result) # history: alle evaluierungen der Epoche\n",
    "    return history\n",
    "\n",
    "to_device(model, device)"
   ]
  },
  {
   "cell_type": "code",
   "execution_count": 5,
   "metadata": {},
   "outputs": [
    {
     "name": "stderr",
     "output_type": "stream",
     "text": [
      "/tmp/ipykernel_6012/2869454686.py:7: UserWarning: To copy construct from a tensor, it is recommended to use sourceTensor.clone().detach() or sourceTensor.clone().detach().requires_grad_(True), rather than torch.tensor(sourceTensor).\n",
      "  return torch.tensor(accuracy_metric(outputs, labels))\n"
     ]
    },
    {
     "name": "stdout",
     "output_type": "stream",
     "text": [
      "{'val_loss': 2.308635950088501, 'val_acc': 0.08682753145694733}\n",
      "Epoch [1], val_loss: 0.2491, val_acc: 0.9244\n",
      "Epoch [2], val_loss: 0.1805, val_acc: 0.9451\n",
      "Epoch [3], val_loss: 0.1622, val_acc: 0.9519\n",
      "Epoch [4], val_loss: 0.1380, val_acc: 0.9563\n",
      "Epoch [5], val_loss: 0.1280, val_acc: 0.9598\n",
      "Epoch [6], val_loss: 0.1271, val_acc: 0.9644\n",
      "Epoch [7], val_loss: 0.1427, val_acc: 0.9550\n",
      "Epoch [8], val_loss: 0.1232, val_acc: 0.9605\n",
      "Epoch [9], val_loss: 0.1231, val_acc: 0.9632\n",
      "Epoch [10], val_loss: 0.1242, val_acc: 0.9624\n",
      "Epoch [11], val_loss: 0.1232, val_acc: 0.9630\n",
      "Epoch [12], val_loss: 0.1126, val_acc: 0.9666\n",
      "Epoch [13], val_loss: 0.1267, val_acc: 0.9619\n",
      "Epoch [14], val_loss: 0.1280, val_acc: 0.9630\n",
      "Epoch [15], val_loss: 0.1230, val_acc: 0.9658\n"
     ]
    }
   ],
   "source": [
    "print(evaluate(model,val_loader)) # Modell wird vor dem training evaluiert, um es vergleichen zu können (es sollte ca 10% genauigkeit ergeben)\n",
    "\n",
    "history = fit(15,0.5,model,train_loder,val_loader) # Modell trainieren und für epochen prints ausgeben\n",
    "\n",
    "with open(\"training_data2.json\", \"w\") as f:\n",
    "    json.dump(history, f, indent = 4)\n",
    "\n"
   ]
  },
  {
   "cell_type": "code",
   "execution_count": null,
   "metadata": {},
   "outputs": [
    {
     "ename": "NameError",
     "evalue": "name 'json' is not defined",
     "output_type": "error",
     "traceback": [
      "\u001b[0;31m---------------------------------------------------------------------------\u001b[0m",
      "\u001b[0;31mNameError\u001b[0m                                 Traceback (most recent call last)",
      "Cell \u001b[0;32mIn[1], line 3\u001b[0m\n\u001b[1;32m      1\u001b[0m \u001b[38;5;66;03m# JSON-Datei einlesen\u001b[39;00m\n\u001b[1;32m      2\u001b[0m \u001b[38;5;28;01mwith\u001b[39;00m \u001b[38;5;28mopen\u001b[39m(\u001b[38;5;124m\"\u001b[39m\u001b[38;5;124mtraining_data2.json\u001b[39m\u001b[38;5;124m\"\u001b[39m, \u001b[38;5;124m\"\u001b[39m\u001b[38;5;124mr\u001b[39m\u001b[38;5;124m\"\u001b[39m) \u001b[38;5;28;01mas\u001b[39;00m f:\n\u001b[0;32m----> 3\u001b[0m     history \u001b[38;5;241m=\u001b[39m \u001b[43mjson\u001b[49m\u001b[38;5;241m.\u001b[39mload(f)\n\u001b[1;32m      4\u001b[0m losses \u001b[38;5;241m=\u001b[39m [x[\u001b[38;5;124m'\u001b[39m\u001b[38;5;124mval_loss\u001b[39m\u001b[38;5;124m'\u001b[39m] \u001b[38;5;28;01mfor\u001b[39;00m x \u001b[38;5;129;01min\u001b[39;00m history]\n\u001b[1;32m      5\u001b[0m plt\u001b[38;5;241m.\u001b[39mplot(losses, \u001b[38;5;124m'\u001b[39m\u001b[38;5;124m-x\u001b[39m\u001b[38;5;124m'\u001b[39m)\n",
      "\u001b[0;31mNameError\u001b[0m: name 'json' is not defined"
     ]
    }
   ],
   "source": [
    "import json\n",
    "# JSON-Datei einlesen\n",
    "with open(\"training_data2.json\", \"r\") as f:\n",
    "    history = json.load(f)\n",
    "losses = [x['val_loss'] for x in history]\n",
    "plt.plot(losses, '-x')\n",
    "plt.xlabel('epoch')\n",
    "plt.ylabel('loss')\n",
    "plt.title('Loss vs. No. of epochs');"
   ]
  },
  {
   "cell_type": "code",
   "execution_count": 7,
   "metadata": {},
   "outputs": [
    {
     "data": {
      "image/png": "[encoded data removed]",
      "text/plain": [
       "<Figure size 640x480 with 1 Axes>"
      ]
     },
     "metadata": {},
     "output_type": "display_data"
    }
   ],
   "source": [
    "# accuracies aus history plotten\n",
    "accuracies = [x['val_acc'] for x in history]\n",
    "plt.plot(accuracies, '-x')\n",
    "plt.xlabel('epoch')\n",
    "plt.ylabel('accuracy')\n",
    "plt.title('Accuracy vs. No. of epochs');"
   ]
  }
 ],
 "metadata": {
  "kernelspec": {
   "display_name": "venv",
   "language": "python",
   "name": "python3"
  },
  "language_info": {
   "codemirror_mode": {
    "name": "ipython",
    "version": 3
   },
   "file_extension": ".py",
   "mimetype": "text/x-python",
   "name": "python",
   "nbconvert_exporter": "python",
   "pygments_lexer": "ipython3",
   "version": "3.10.12"
  }
 },
 "nbformat": 4,
 "nbformat_minor": 2
}
